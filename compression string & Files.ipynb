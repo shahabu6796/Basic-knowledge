{
 "cells": [
  {
   "cell_type": "markdown",
   "metadata": {},
   "source": [
    "# Copression string"
   ]
  },
  {
   "cell_type": "code",
   "execution_count": 1,
   "metadata": {},
   "outputs": [
    {
     "name": "stdout",
     "output_type": "stream",
     "text": [
      "Enter your massage :aabb\n",
      "After compressing massage is : a2b2\n"
     ]
    }
   ],
   "source": [
    "def compress(n):\n",
    "    msg_lst=list(n)\n",
    "    cmp_lst=[]\n",
    "    prev=msg_lst[0]\n",
    "    count=1\n",
    "    for i in range(1,len(msg_lst)):\n",
    "        if prev==msg_lst[i]:\n",
    "           count+=1\n",
    "        else:\n",
    "            cmp_lst.append(prev)\n",
    "            cmp_lst.append(str(count))\n",
    "            count=1\n",
    "            prev=msg_lst[i]\n",
    "    cmp_lst.append(prev)\n",
    "    cmp_lst.append(str(count))\n",
    "    return ''.join(cmp_lst)\n",
    "msg=input('Enter your massage :')\n",
    "p=compress(msg)\n",
    "print('After compressing massage is :',p)"
   ]
  }
 ],
 "metadata": {
  "kernelspec": {
   "display_name": "Python 3",
   "language": "python",
   "name": "python3"
  },
  "language_info": {
   "codemirror_mode": {
    "name": "ipython",
    "version": 3
   },
   "file_extension": ".py",
   "mimetype": "text/x-python",
   "name": "python",
   "nbconvert_exporter": "python",
   "pygments_lexer": "ipython3",
   "version": "3.7.4"
  }
 },
 "nbformat": 4,
 "nbformat_minor": 4
}
