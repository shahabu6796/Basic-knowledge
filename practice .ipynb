{
 "cells": [
  {
   "cell_type": "markdown",
   "metadata": {},
   "source": [
    "# factorial using recursion"
   ]
  },
  {
   "cell_type": "code",
   "execution_count": null,
   "metadata": {},
   "outputs": [],
   "source": [
    "def factorial(n):\n",
    "    if n==1 or n==0:\n",
    "        return 1\n",
    "    else:\n",
    "        return n*factorial(n-1)\n",
    "n=int(input(\"Enter the value to find factoria :\"))\n",
    "print('Factorial of a given no is :' ,factorial(n))"
   ]
  },
  {
   "cell_type": "markdown",
   "metadata": {},
   "source": [
    "# GCD using recurion"
   ]
  },
  {
   "cell_type": "code",
   "execution_count": null,
   "metadata": {},
   "outputs": [],
   "source": [
    "def GCD(x,y):\n",
    "    rem=x%y\n",
    "    if rem==0:\n",
    "        return y\n",
    "    else:\n",
    "        return GCD(y,rem)\n",
    "x=int(input('Enter first value :'))\n",
    "y=int(input('Enter second value :'))\n",
    "print('GCD of given no is :',GCD(x,y))"
   ]
  },
  {
   "cell_type": "code",
   "execution_count": 2,
   "metadata": {
    "scrolled": true
   },
   "outputs": [
    {
     "name": "stdout",
     "output_type": "stream",
     "text": [
      "    August 2020\n",
      "Mo Tu We Th Fr Sa Su\n",
      "                1  2\n",
      " 3  4  5  6  7  8  9\n",
      "10 11 12 13 14 15 16\n",
      "17 18 19 20 21 22 23\n",
      "24 25 26 27 28 29 30\n",
      "31\n",
      "\n"
     ]
    }
   ],
   "source": [
    "import calendar\n",
    "print(calendar.month(2020,8))"
   ]
  },
  {
   "cell_type": "code",
   "execution_count": 7,
   "metadata": {},
   "outputs": [
    {
     "name": "stdout",
     "output_type": "stream",
     "text": [
      "Thu Apr 30 17:07:38 2020\n"
     ]
    }
   ],
   "source": [
    "import time\n",
    "l=time.asctime(time.localtime(time.time()))\n",
    "print(l)"
   ]
  },
  {
   "cell_type": "code",
   "execution_count": 9,
   "metadata": {},
   "outputs": [
    {
     "name": "stdout",
     "output_type": "stream",
     "text": [
      "0\n",
      "1\n",
      "2\n",
      "3\n",
      "4\n",
      "5\n",
      "6\n",
      "7\n",
      "8\n",
      "9\n"
     ]
    }
   ],
   "source": [
    "def test(n):\n",
    "    for i in range(n):\n",
    "        print(i)\n",
    "    return\n",
    "test(10)"
   ]
  },
  {
   "cell_type": "code",
   "execution_count": 11,
   "metadata": {},
   "outputs": [
    {
     "name": "stdout",
     "output_type": "stream",
     "text": [
      "this is a\n",
      "this is B\n"
     ]
    }
   ],
   "source": [
    "def A():\n",
    "    print('this is a')\n",
    "def B():\n",
    "    A()\n",
    "    print('this is B')\n",
    "B()"
   ]
  },
  {
   "cell_type": "code",
   "execution_count": 1,
   "metadata": {},
   "outputs": [
    {
     "name": "stdout",
     "output_type": "stream",
     "text": [
      "0\n",
      "1\n",
      "2\n",
      "3\n",
      "4\n",
      "5\n",
      "6\n",
      "7\n",
      "8\n",
      "9\n",
      "time take by this function is : 1.0118446350097656\n"
     ]
    }
   ],
   "source": [
    "import time\n",
    "def A(n):\n",
    "    start=time.time()\n",
    "    for i in range(n):\n",
    "        print(i)\n",
    "    time.sleep(1)\n",
    "    end=time.time()\n",
    "    print('time take by this function is :',(end-start))\n",
    "A(10)"
   ]
  },
  {
   "cell_type": "code",
   "execution_count": 17,
   "metadata": {},
   "outputs": [
    {
     "ename": "NameError",
     "evalue": "name 'x' is not defined",
     "output_type": "error",
     "traceback": [
      "\u001b[1;31m---------------------------------------------------------------------------\u001b[0m",
      "\u001b[1;31mNameError\u001b[0m                                 Traceback (most recent call last)",
      "\u001b[1;32m<ipython-input-17-a1c0aa2732b5>\u001b[0m in \u001b[0;36m<module>\u001b[1;34m\u001b[0m\n\u001b[0;32m      2\u001b[0m     \u001b[0mx\u001b[0m\u001b[1;33m=\u001b[0m\u001b[1;32mlambda\u001b[0m \u001b[0mxy\u001b[0m\u001b[1;33m:\u001b[0m\u001b[0mx\u001b[0m\u001b[1;33m*\u001b[0m\u001b[0my\u001b[0m\u001b[1;33m\u001b[0m\u001b[1;33m\u001b[0m\u001b[0m\n\u001b[0;32m      3\u001b[0m \u001b[1;33m\u001b[0m\u001b[0m\n\u001b[1;32m----> 4\u001b[1;33m \u001b[0mprint\u001b[0m\u001b[1;33m(\u001b[0m\u001b[0mx\u001b[0m\u001b[1;33m(\u001b[0m\u001b[1;36m4\u001b[0m\u001b[1;33m,\u001b[0m\u001b[1;36m5\u001b[0m\u001b[1;33m)\u001b[0m\u001b[1;33m)\u001b[0m\u001b[1;33m\u001b[0m\u001b[1;33m\u001b[0m\u001b[0m\n\u001b[0m",
      "\u001b[1;31mNameError\u001b[0m: name 'x' is not defined"
     ]
    }
   ],
   "source": [
    "def A(x,y):\n",
    "    x=lambda xy:x*y\n",
    "     \n",
    "print(x(4,5))"
   ]
  },
  {
   "cell_type": "code",
   "execution_count": 18,
   "metadata": {},
   "outputs": [
    {
     "ename": "SyntaxError",
     "evalue": "invalid syntax (<ipython-input-18-5bf0b5504249>, line 1)",
     "output_type": "error",
     "traceback": [
      "\u001b[1;36m  File \u001b[1;32m\"<ipython-input-18-5bf0b5504249>\"\u001b[1;36m, line \u001b[1;32m1\u001b[0m\n\u001b[1;33m    ys=lambda(x,y:x*y)\u001b[0m\n\u001b[1;37m             ^\u001b[0m\n\u001b[1;31mSyntaxError\u001b[0m\u001b[1;31m:\u001b[0m invalid syntax\n"
     ]
    }
   ],
   "source": [
    "ys=lambda(x,y:x*y)\n",
    "x=4\n",
    "y=3\n",
    "print(ys)"
   ]
  },
  {
   "cell_type": "code",
   "execution_count": 19,
   "metadata": {},
   "outputs": [
    {
     "ename": "SyntaxError",
     "evalue": "invalid syntax (<ipython-input-19-59907ff4e2ac>, line 3)",
     "output_type": "error",
     "traceback": [
      "\u001b[1;36m  File \u001b[1;32m\"<ipython-input-19-59907ff4e2ac>\"\u001b[1;36m, line \u001b[1;32m3\u001b[0m\n\u001b[1;33m    ys=lambda(x,y:x*y)\u001b[0m\n\u001b[1;37m             ^\u001b[0m\n\u001b[1;31mSyntaxError\u001b[0m\u001b[1;31m:\u001b[0m invalid syntax\n"
     ]
    }
   ],
   "source": [
    "x=4\n",
    "y=3\n",
    "ys=lambda(x,y:x*y)\n",
    "print(ys)"
   ]
  },
  {
   "cell_type": "code",
   "execution_count": 21,
   "metadata": {},
   "outputs": [
    {
     "name": "stdout",
     "output_type": "stream",
     "text": [
      "20\n"
     ]
    }
   ],
   "source": [
    "mul=lambda x,y:x*y\n",
    "print(mul(4,5))"
   ]
  },
  {
   "cell_type": "code",
   "execution_count": 14,
   "metadata": {},
   "outputs": [
    {
     "name": "stdout",
     "output_type": "stream",
     "text": [
      "leap year\n"
     ]
    }
   ],
   "source": [
    "import calendar\n",
    "y=2020\n",
    "if calendar.isleap(y):\n",
    "    print('leap year')\n",
    "else:\n",
    "    print('not leap year')"
   ]
  },
  {
   "cell_type": "code",
   "execution_count": 13,
   "metadata": {},
   "outputs": [
    {
     "name": "stdout",
     "output_type": "stream",
     "text": [
      "Enter no of month :2\n",
      "Enter year :2020\n"
     ]
    },
    {
     "ename": "AttributeError",
     "evalue": "module 'calendar' has no attribute 'year'",
     "output_type": "error",
     "traceback": [
      "\u001b[1;31m---------------------------------------------------------------------------\u001b[0m",
      "\u001b[1;31mAttributeError\u001b[0m                            Traceback (most recent call last)",
      "\u001b[1;32m<ipython-input-13-59ef79d3f17d>\u001b[0m in \u001b[0;36m<module>\u001b[1;34m\u001b[0m\n\u001b[0;32m      2\u001b[0m \u001b[0mn\u001b[0m\u001b[1;33m=\u001b[0m\u001b[0mint\u001b[0m\u001b[1;33m(\u001b[0m\u001b[0minput\u001b[0m\u001b[1;33m(\u001b[0m\u001b[1;34m'Enter no of month :'\u001b[0m\u001b[1;33m)\u001b[0m\u001b[1;33m)\u001b[0m\u001b[1;33m\u001b[0m\u001b[1;33m\u001b[0m\u001b[0m\n\u001b[0;32m      3\u001b[0m \u001b[0my\u001b[0m\u001b[1;33m=\u001b[0m\u001b[0mint\u001b[0m\u001b[1;33m(\u001b[0m\u001b[0minput\u001b[0m\u001b[1;33m(\u001b[0m\u001b[1;34m'Enter year :'\u001b[0m\u001b[1;33m)\u001b[0m\u001b[1;33m)\u001b[0m\u001b[1;33m\u001b[0m\u001b[1;33m\u001b[0m\u001b[0m\n\u001b[1;32m----> 4\u001b[1;33m \u001b[0mprint\u001b[0m\u001b[1;33m(\u001b[0m\u001b[0mcalendar\u001b[0m\u001b[1;33m.\u001b[0m\u001b[0myear\u001b[0m\u001b[1;33m(\u001b[0m\u001b[0my\u001b[0m\u001b[1;33m,\u001b[0m\u001b[0mn\u001b[0m\u001b[1;33m)\u001b[0m\u001b[1;33m)\u001b[0m\u001b[1;33m\u001b[0m\u001b[1;33m\u001b[0m\u001b[0m\n\u001b[0m",
      "\u001b[1;31mAttributeError\u001b[0m: module 'calendar' has no attribute 'year'"
     ]
    }
   ],
   "source": [
    "import calendar\n",
    "n=int(input('Enter no of month :'))\n",
    "y=int(input('Enter year :'))\n",
    "print(calendar.year(y,n))"
   ]
  },
  {
   "cell_type": "code",
   "execution_count": null,
   "metadata": {},
   "outputs": [],
   "source": [
    "def number(n):\n",
    "    if n>0:\n",
    "        return 1\n",
    "    else:\n",
    "        return number()\n",
    "n=int(input('Enter value :'))\n",
    "print(number(n))"
   ]
  },
  {
   "cell_type": "code",
   "execution_count": 3,
   "metadata": {},
   "outputs": [
    {
     "ename": "SyntaxError",
     "evalue": "EOL while scanning string literal (<ipython-input-3-4a2ffe33022a>, line 2)",
     "output_type": "error",
     "traceback": [
      "\u001b[1;36m  File \u001b[1;32m\"<ipython-input-3-4a2ffe33022a>\"\u001b[1;36m, line \u001b[1;32m2\u001b[0m\n\u001b[1;33m    \"This prints a passed string into\u001b[0m\n\u001b[1;37m                                     ^\u001b[0m\n\u001b[1;31mSyntaxError\u001b[0m\u001b[1;31m:\u001b[0m EOL while scanning string literal\n"
     ]
    }
   ],
   "source": [
    "def display(str):\n",
    "    \"This prints a passed string into\n",
    "    this function\"\n",
    "    print(str)\n",
    "    return \n",
    "display(str=\"welcome\")"
   ]
  },
  {
   "cell_type": "code",
   "execution_count": 14,
   "metadata": {},
   "outputs": [
    {
     "name": "stdout",
     "output_type": "stream",
     "text": [
      "None\n"
     ]
    }
   ],
   "source": [
    "def func():\n",
    "    print('world')\n",
    "    \"\"\"Do nothing \n",
    "    nothing doing \"\"\"\n",
    "    print('hello')\n",
    "    return \n",
    "print(func.__doc__)"
   ]
  },
  {
   "cell_type": "code",
   "execution_count": 17,
   "metadata": {},
   "outputs": [
    {
     "name": "stdout",
     "output_type": "stream",
     "text": [
      "hello!\n"
     ]
    }
   ],
   "source": [
    "def A(msg):\n",
    "    return msg + \"!\"\n",
    "ptr=A\n",
    "s=ptr(\"hello\")\n",
    "print(s)"
   ]
  },
  {
   "cell_type": "code",
   "execution_count": 21,
   "metadata": {},
   "outputs": [
    {
     "name": "stdout",
     "output_type": "stream",
     "text": [
      "51\n",
      "75\n",
      "16\n",
      "76\n",
      "38\n",
      "59\n",
      "55\n",
      "2\n",
      "44\n",
      "57\n"
     ]
    }
   ],
   "source": [
    "from random import randint as r\n",
    "for i in range(10):\n",
    "    value=r(1,100)\n",
    "    print(value)"
   ]
  },
  {
   "cell_type": "code",
   "execution_count": 28,
   "metadata": {},
   "outputs": [
    {
     "name": "stdout",
     "output_type": "stream",
     "text": [
      "34\n",
      "10\n"
     ]
    }
   ],
   "source": [
    "var=1000\n",
    "def f():\n",
    "    var=34\n",
    "    print(var)\n",
    "    var=10\n",
    "    print(var)\n",
    "#var=100\n",
    "f()"
   ]
  },
  {
   "cell_type": "code",
   "execution_count": 30,
   "metadata": {},
   "outputs": [
    {
     "ename": "SyntaxError",
     "evalue": "invalid syntax (<ipython-input-30-2817068b4de6>, line 1)",
     "output_type": "error",
     "traceback": [
      "\u001b[1;36m  File \u001b[1;32m\"<ipython-input-30-2817068b4de6>\"\u001b[1;36m, line \u001b[1;32m1\u001b[0m\n\u001b[1;33m    print(lambda x:x**2+5*x+6)(-3))\u001b[0m\n\u001b[1;37m                                  ^\u001b[0m\n\u001b[1;31mSyntaxError\u001b[0m\u001b[1;31m:\u001b[0m invalid syntax\n"
     ]
    }
   ],
   "source": [
    "print(lambda x:x**2+5*x+6)(-3))"
   ]
  },
  {
   "cell_type": "code",
   "execution_count": 34,
   "metadata": {},
   "outputs": [
    {
     "name": "stdout",
     "output_type": "stream",
     "text": [
      "hey\n"
     ]
    }
   ],
   "source": [
    "def func1(x):\n",
    "    return is_odd(x-1)\n",
    "def is_odd(x):\n",
    "    return 'hey'\n",
    "\n",
    "print(func1(22))"
   ]
  },
  {
   "cell_type": "code",
   "execution_count": 36,
   "metadata": {},
   "outputs": [
    {
     "name": "stdout",
     "output_type": "stream",
     "text": [
      "0\n"
     ]
    }
   ],
   "source": [
    "def display(x):\n",
    "    for i in range(x):\n",
    "        print(i)\n",
    "        return \n",
    "display(5)"
   ]
  },
  {
   "cell_type": "code",
   "execution_count": 40,
   "metadata": {
    "scrolled": true
   },
   "outputs": [
    {
     "ename": "SyntaxError",
     "evalue": "positional argument follows keyword argument (<ipython-input-40-5842a51352c2>, line 4)",
     "output_type": "error",
     "traceback": [
      "\u001b[1;36m  File \u001b[1;32m\"<ipython-input-40-5842a51352c2>\"\u001b[1;36m, line \u001b[1;32m4\u001b[0m\n\u001b[1;33m    func(b=10,34)\u001b[0m\n\u001b[1;37m             ^\u001b[0m\n\u001b[1;31mSyntaxError\u001b[0m\u001b[1;31m:\u001b[0m positional argument follows keyword argument\n"
     ]
    }
   ],
   "source": [
    "def func(a,b):\n",
    "    print(a)\n",
    "    print(b)\n",
    "func(b=10,34)"
   ]
  },
  {
   "cell_type": "code",
   "execution_count": 8,
   "metadata": {},
   "outputs": [
    {
     "data": {
      "text/plain": [
       "55"
      ]
     },
     "execution_count": 8,
     "metadata": {},
     "output_type": "execute_result"
    }
   ],
   "source": [
    "import math\n",
    "a=54.76\n",
    "math.ceil(a)"
   ]
  },
  {
   "cell_type": "code",
   "execution_count": 10,
   "metadata": {},
   "outputs": [
    {
     "name": "stdout",
     "output_type": "stream",
     "text": [
      "2020-05-04\n"
     ]
    }
   ],
   "source": [
    "import datetime\n",
    "today=datetime.date.today()\n",
    "print(today)"
   ]
  },
  {
   "cell_type": "code",
   "execution_count": 11,
   "metadata": {},
   "outputs": [
    {
     "data": {
      "text/plain": [
       "time.struct_time(tm_year=2020, tm_mon=5, tm_mday=4, tm_hour=0, tm_min=0, tm_sec=0, tm_wday=0, tm_yday=125, tm_isdst=-1)"
      ]
     },
     "execution_count": 11,
     "metadata": {},
     "output_type": "execute_result"
    }
   ],
   "source": [
    "today.timetuple()"
   ]
  },
  {
   "cell_type": "code",
   "execution_count": 13,
   "metadata": {},
   "outputs": [
    {
     "data": {
      "text/plain": [
       "['MAXYEAR',\n",
       " 'MINYEAR',\n",
       " '__builtins__',\n",
       " '__cached__',\n",
       " '__doc__',\n",
       " '__file__',\n",
       " '__loader__',\n",
       " '__name__',\n",
       " '__package__',\n",
       " '__spec__',\n",
       " 'date',\n",
       " 'datetime',\n",
       " 'datetime_CAPI',\n",
       " 'sys',\n",
       " 'time',\n",
       " 'timedelta',\n",
       " 'timezone',\n",
       " 'tzinfo']"
      ]
     },
     "execution_count": 13,
     "metadata": {},
     "output_type": "execute_result"
    }
   ],
   "source": [
    "import datetime\n",
    "dir(datetime)"
   ]
  },
  {
   "cell_type": "code",
   "execution_count": null,
   "metadata": {},
   "outputs": [],
   "source": []
  },
  {
   "cell_type": "code",
   "execution_count": 29,
   "metadata": {},
   "outputs": [
    {
     "data": {
      "text/plain": [
       "datetime.datetime(2020, 5, 4, 16, 5, 22, 537638)"
      ]
     },
     "execution_count": 29,
     "metadata": {},
     "output_type": "execute_result"
    }
   ],
   "source": [
    "datetime.datetime.today()"
   ]
  },
  {
   "cell_type": "code",
   "execution_count": 31,
   "metadata": {},
   "outputs": [
    {
     "data": {
      "text/plain": [
       "'Mon May  4 16:09:22 2020'"
      ]
     },
     "execution_count": 31,
     "metadata": {},
     "output_type": "execute_result"
    }
   ],
   "source": [
    "import time\n",
    "time.ctime()"
   ]
  },
  {
   "cell_type": "code",
   "execution_count": 33,
   "metadata": {},
   "outputs": [
    {
     "data": {
      "text/plain": [
       "datetime.datetime(2020, 5, 4, 16, 10, 43, 417531)"
      ]
     },
     "execution_count": 33,
     "metadata": {},
     "output_type": "execute_result"
    }
   ],
   "source": [
    "import datetime\n",
    "datetime.datetime.now()"
   ]
  },
  {
   "cell_type": "code",
   "execution_count": 34,
   "metadata": {},
   "outputs": [
    {
     "data": {
      "text/plain": [
       "1588589431.4956055"
      ]
     },
     "execution_count": 34,
     "metadata": {},
     "output_type": "execute_result"
    }
   ],
   "source": [
    "import time\n",
    "time.time()"
   ]
  },
  {
   "cell_type": "code",
   "execution_count": 1,
   "metadata": {},
   "outputs": [
    {
     "name": "stdout",
     "output_type": "stream",
     "text": [
      "None\n",
      "shahab\n"
     ]
    }
   ],
   "source": [
    "import time\n",
    "print(time.sleep(5))\n",
    "print('shahab')"
   ]
  },
  {
   "cell_type": "code",
   "execution_count": 5,
   "metadata": {},
   "outputs": [
    {
     "name": "stdout",
     "output_type": "stream",
     "text": [
      "Enter year to check leap or not :2020\n",
      "2020 is a leap year\n"
     ]
    }
   ],
   "source": [
    "from calendar import *\n",
    "y=int(input('Enter year to check leap or not :'))\n",
    "if isleap(y):\n",
    "    print('{} is a leap year'.format(y))\n",
    "else:\n",
    "    print('{} is not a leap year '.format(y))"
   ]
  },
  {
   "cell_type": "code",
   "execution_count": 7,
   "metadata": {},
   "outputs": [
    {
     "name": "stdout",
     "output_type": "stream",
     "text": [
      "time.struct_time(tm_year=2020, tm_mon=5, tm_mday=4, tm_hour=11, tm_min=34, tm_sec=16, tm_wday=0, tm_yday=125, tm_isdst=0)\n",
      "Mon May  4 11:34:16 2020\n"
     ]
    }
   ],
   "source": [
    "from time import *\n",
    "d=gmtime()\n",
    "print(d)\n",
    "print(asctime(d))"
   ]
  },
  {
   "cell_type": "code",
   "execution_count": 10,
   "metadata": {},
   "outputs": [
    {
     "data": {
      "text/plain": [
       "'Mon May  4 17:10:24 2020'"
      ]
     },
     "execution_count": 10,
     "metadata": {},
     "output_type": "execute_result"
    }
   ],
   "source": [
    "from time import *\n",
    "asctime()"
   ]
  },
  {
   "cell_type": "code",
   "execution_count": 21,
   "metadata": {},
   "outputs": [
    {
     "name": "stdout",
     "output_type": "stream",
     "text": [
      "(4, 31)\n"
     ]
    }
   ],
   "source": [
    "from calendar import *\n",
    "print(monthrange(2020,5))"
   ]
  },
  {
   "cell_type": "code",
   "execution_count": 25,
   "metadata": {},
   "outputs": [
    {
     "name": "stdout",
     "output_type": "stream",
     "text": [
      "402\n"
     ]
    }
   ],
   "source": [
    "from datetime import date\n",
    "c=date(1997,2,10)\n",
    "e=date(1996,1,5)\n",
    "print((c-e).days)"
   ]
  },
  {
   "cell_type": "code",
   "execution_count": 27,
   "metadata": {},
   "outputs": [
    {
     "name": "stdout",
     "output_type": "stream",
     "text": [
      "[36, 8]\n"
     ]
    }
   ],
   "source": [
    "def mul(n):\n",
    "    if n%2==0:\n",
    "        return True\n",
    "    else:\n",
    "        return False\n",
    "l=[5,3,36,8]\n",
    "c=filter(mul,l)\n",
    "print(list(c))"
   ]
  },
  {
   "cell_type": "code",
   "execution_count": 49,
   "metadata": {},
   "outputs": [
    {
     "name": "stdout",
     "output_type": "stream",
     "text": [
      "Enter value :5\n"
     ]
    }
   ],
   "source": [
    "n=int(input('Enter value :'))\n",
    "for i in range(2,n):\n",
    "    if (n % i)==0:\n",
    "        print('not a prime ')\n",
    "        break\n",
    "if i==n:\n",
    "    print('prime ')"
   ]
  },
  {
   "cell_type": "code",
   "execution_count": 37,
   "metadata": {
    "scrolled": true
   },
   "outputs": [
    {
     "name": "stdout",
     "output_type": "stream",
     "text": [
      "30414093201713378043612608166064768844377641568960512000000000000\n"
     ]
    }
   ],
   "source": [
    "def factorial(n):\n",
    "    fact=1\n",
    "    while n>0:\n",
    "        fact=fact*n\n",
    "        n-=1\n",
    "    return fact\n",
    "print(factorial(50))"
   ]
  },
  {
   "cell_type": "code",
   "execution_count": 48,
   "metadata": {},
   "outputs": [
    {
     "name": "stdout",
     "output_type": "stream",
     "text": [
      "407 is not a prime number\n"
     ]
    }
   ],
   "source": [
    "num = 407\n",
    "if num > 1:\n",
    "   # check for factors\n",
    "   for i in range(2,num):\n",
    "       if (num % i) == 0:\n",
    "           print(num,\"is not a prime number\")\n",
    "           break\n",
    "   else:\n",
    "       print(num,\"is a prime number\")\n",
    "else:\n",
    "   print(num,\"is not a prime number\")"
   ]
  },
  {
   "cell_type": "code",
   "execution_count": 77,
   "metadata": {},
   "outputs": [
    {
     "name": "stdout",
     "output_type": "stream",
     "text": [
      "enter value :5\n",
      "4\n",
      "prime number \n",
      "total time taken : 1588750559.1183136\n"
     ]
    }
   ],
   "source": [
    "import time\n",
    "import math\n",
    "n=int(input('enter value :'))\n",
    "start=time.time()\n",
    "if n>1:\n",
    "    for i in range(2,int((math.sqrt(n)))):\n",
    "        if n % i==0:\n",
    "            print('not a prime ')\n",
    "            break\n",
    "    else:\n",
    "        print(i)\n",
    "        print('prime number ')\n",
    "    end=time.time()\n",
    "else:\n",
    "    print('not a prime')\n",
    "cal=end=start\n",
    "print('total time take :',cal)"
   ]
  },
  {
   "cell_type": "markdown",
   "metadata": {},
   "source": [
    "# prime number"
   ]
  },
  {
   "cell_type": "code",
   "execution_count": 74,
   "metadata": {
    "scrolled": false
   },
   "outputs": [
    {
     "name": "stdout",
     "output_type": "stream",
     "text": [
      "enter value :5\n",
      "4\n",
      "prime number \n",
      "total time take : 1588750459.4431849\n"
     ]
    }
   ],
   "source": [
    "import time\n",
    "import math\n",
    "n=int(input('enter value :'))\n",
    "start=time.time()\n",
    "if n>1:\n",
    "    for i in range(2,n):\n",
    "        if n % i==0:\n",
    "            print('not a prime ')\n",
    "            break\n",
    "    else:\n",
    "        print(i)\n",
    "        print('prime number ')\n",
    "    end=time.time()\n",
    "else:\n",
    "    print('not a prime')\n",
    "cal=end-start\n",
    "print('total time take :',cal)"
   ]
  },
  {
   "cell_type": "markdown",
   "metadata": {},
   "source": [
    "# fibonacci series"
   ]
  },
  {
   "cell_type": "code",
   "execution_count": 81,
   "metadata": {},
   "outputs": [
    {
     "name": "stdout",
     "output_type": "stream",
     "text": [
      "Enter no of terms :5\n",
      "[0, 1, 1, 2, 3]\n"
     ]
    }
   ],
   "source": [
    "n=int(input('Enter no of terms :'))\n",
    "a=0\n",
    "b=1\n",
    "lst=[]\n",
    "lst.append(a)\n",
    "lst.append(b)\n",
    "for i in range(2,n):\n",
    "    c=a+b\n",
    "    lst.append(c)\n",
    "    a=b\n",
    "    b=c\n",
    "print(lst)"
   ]
  },
  {
   "cell_type": "markdown",
   "metadata": {},
   "source": [
    "# factors of a given number"
   ]
  },
  {
   "cell_type": "code",
   "execution_count": 86,
   "metadata": {
    "scrolled": true
   },
   "outputs": [
    {
     "name": "stdout",
     "output_type": "stream",
     "text": [
      "Enter value to find factors :25\n",
      "5\n",
      "25\n",
      "Total factors are : 2\n"
     ]
    }
   ],
   "source": [
    "n=int(input('Enter value to find factors :'))\n",
    "count=0\n",
    "for i in range(2,n+1):\n",
    "    if n%i==0:\n",
    "        print(i)\n",
    "        count+=1\n",
    "print('Total factors are :',count)"
   ]
  },
  {
   "cell_type": "code",
   "execution_count": 88,
   "metadata": {},
   "outputs": [
    {
     "name": "stdout",
     "output_type": "stream",
     "text": [
      "6\n"
     ]
    }
   ],
   "source": [
    "def gcd(a,b):\n",
    "    if a==0:\n",
    "        return b\n",
    "    else:\n",
    "        rem=b%a\n",
    "        return gcd(rem,a)\n",
    "a=30\n",
    "b=42\n",
    "print(gcd(a,b))"
   ]
  },
  {
   "cell_type": "code",
   "execution_count": 8,
   "metadata": {},
   "outputs": [
    {
     "name": "stdout",
     "output_type": "stream",
     "text": [
      "2\n",
      "3\n",
      "6\n",
      "6\n",
      "60\n"
     ]
    }
   ],
   "source": [
    "'''from math import gcd\n",
    "def lcm(n1,n2):\n",
    "    larger=max(n1,n2)\n",
    "    lcm=1\n",
    "    i=1\n",
    "    while(1):\n",
    "        if(larger%n1==0 and larger%n2==0):\n",
    "            lcm=larger\n",
    "            break\n",
    "        larger+=1\n",
    "    return lcm\n",
    "    for i in range(1,n1*n2+1):\n",
    "        if i%n1==0 and i%n2==0:\n",
    "            return i'''\n",
    "def getSmallestDivNum(n):\n",
    "    ans=1\n",
    "    for i in range(2,n+1):\n",
    "        \n",
    "        ans=ans*(i//gcd(i,ans))\n",
    "    return ans\n",
    "if __name__ == '__main__':\n",
    "    t=int(input())\n",
    "    for tcs in range(t):\n",
    "        n=int(input())\n",
    "        print(getSmallestDivNum(n))\n",
    "# } Driver Code Ends"
   ]
  },
  {
   "cell_type": "code",
   "execution_count": 94,
   "metadata": {},
   "outputs": [
    {
     "name": "stdout",
     "output_type": "stream",
     "text": [
      "0\n"
     ]
    }
   ],
   "source": [
    "n=1\n",
    "for i in range(n):\n",
    "    if i==10:\n",
    "        continue\n",
    "    elif i==40:\n",
    "        continue\n",
    "    else:\n",
    "        print(i)"
   ]
  },
  {
   "cell_type": "code",
   "execution_count": 89,
   "metadata": {},
   "outputs": [
    {
     "name": "stdout",
     "output_type": "stream",
     "text": [
      "__main__\n"
     ]
    }
   ],
   "source": [
    "print(__name__)"
   ]
  },
  {
   "cell_type": "code",
   "execution_count": 92,
   "metadata": {},
   "outputs": [
    {
     "name": "stdout",
     "output_type": "stream",
     "text": [
      "1\n"
     ]
    }
   ],
   "source": [
    "from math import gcd\n",
    "print(gcd(5,4))"
   ]
  },
  {
   "cell_type": "code",
   "execution_count": 9,
   "metadata": {},
   "outputs": [
    {
     "name": "stdout",
     "output_type": "stream",
     "text": [
      "enter value :b\n"
     ]
    },
    {
     "ename": "ValueError",
     "evalue": "invalid literal for int() with base 10: 'b'",
     "output_type": "error",
     "traceback": [
      "\u001b[1;31m---------------------------------------------------------------------------\u001b[0m",
      "\u001b[1;31mValueError\u001b[0m                                Traceback (most recent call last)",
      "\u001b[1;32m<ipython-input-9-90e0ebd3c6cf>\u001b[0m in \u001b[0;36m<module>\u001b[1;34m\u001b[0m\n\u001b[1;32m----> 1\u001b[1;33m \u001b[0ma\u001b[0m\u001b[1;33m=\u001b[0m\u001b[0mint\u001b[0m\u001b[1;33m(\u001b[0m\u001b[0minput\u001b[0m\u001b[1;33m(\u001b[0m\u001b[1;34m'enter value :'\u001b[0m\u001b[1;33m)\u001b[0m\u001b[1;33m)\u001b[0m\u001b[1;33m\u001b[0m\u001b[1;33m\u001b[0m\u001b[0m\n\u001b[0m\u001b[0;32m      2\u001b[0m \u001b[0mb\u001b[0m\u001b[1;33m=\u001b[0m\u001b[0mint\u001b[0m\u001b[1;33m(\u001b[0m\u001b[0minput\u001b[0m\u001b[1;33m(\u001b[0m\u001b[1;34m'enter value :'\u001b[0m\u001b[1;33m)\u001b[0m\u001b[1;33m)\u001b[0m\u001b[1;33m\u001b[0m\u001b[1;33m\u001b[0m\u001b[0m\n\u001b[0;32m      3\u001b[0m \u001b[0mc\u001b[0m\u001b[1;33m=\u001b[0m\u001b[0mint\u001b[0m\u001b[1;33m(\u001b[0m\u001b[0minput\u001b[0m\u001b[1;33m(\u001b[0m\u001b[1;34m'enter value :'\u001b[0m\u001b[1;33m)\u001b[0m\u001b[1;33m)\u001b[0m\u001b[1;33m\u001b[0m\u001b[1;33m\u001b[0m\u001b[0m\n\u001b[0;32m      4\u001b[0m \u001b[1;32mfor\u001b[0m \u001b[0mi\u001b[0m \u001b[1;32min\u001b[0m \u001b[0mrange\u001b[0m\u001b[1;33m(\u001b[0m\u001b[1;36m1\u001b[0m\u001b[1;33m,\u001b[0m\u001b[1;33m(\u001b[0m\u001b[0ma\u001b[0m\u001b[1;33m*\u001b[0m\u001b[0mb\u001b[0m\u001b[1;33m*\u001b[0m\u001b[0mc\u001b[0m\u001b[1;33m)\u001b[0m\u001b[1;33m+\u001b[0m\u001b[1;36m1\u001b[0m\u001b[1;33m)\u001b[0m\u001b[1;33m:\u001b[0m\u001b[1;33m\u001b[0m\u001b[1;33m\u001b[0m\u001b[0m\n\u001b[0;32m      5\u001b[0m     \u001b[1;32mif\u001b[0m \u001b[0mi\u001b[0m\u001b[1;33m%\u001b[0m\u001b[0ma\u001b[0m\u001b[1;33m==\u001b[0m\u001b[1;36m0\u001b[0m \u001b[1;32mand\u001b[0m \u001b[0mi\u001b[0m\u001b[1;33m%\u001b[0m\u001b[0mb\u001b[0m\u001b[1;33m==\u001b[0m\u001b[1;36m0\u001b[0m \u001b[1;32mand\u001b[0m \u001b[0mi\u001b[0m\u001b[1;33m%\u001b[0m\u001b[0mc\u001b[0m\u001b[1;33m==\u001b[0m\u001b[1;36m0\u001b[0m\u001b[1;33m:\u001b[0m\u001b[1;33m\u001b[0m\u001b[1;33m\u001b[0m\u001b[0m\n",
      "\u001b[1;31mValueError\u001b[0m: invalid literal for int() with base 10: 'b'"
     ]
    }
   ],
   "source": [
    "a=int(input('enter value :'))\n",
    "b=int(input('enter value :'))\n",
    "c=int(input('enter value :'))\n",
    "for i in range(1,(a*b*c)+1):\n",
    "    if i%a==0 and i%b==0 and i%c==0:\n",
    "        print(i)"
   ]
  },
  {
   "cell_type": "code",
   "execution_count": 12,
   "metadata": {},
   "outputs": [
    {
     "ename": "SyntaxError",
     "evalue": "invalid syntax (<ipython-input-12-1fb9e712724c>, line 2)",
     "output_type": "error",
     "traceback": [
      "\u001b[1;36m  File \u001b[1;32m\"<ipython-input-12-1fb9e712724c>\"\u001b[1;36m, line \u001b[1;32m2\u001b[0m\n\u001b[1;33m    print(5 mod 2)\u001b[0m\n\u001b[1;37m              ^\u001b[0m\n\u001b[1;31mSyntaxError\u001b[0m\u001b[1;31m:\u001b[0m invalid syntax\n"
     ]
    }
   ],
   "source": [
    "from math import mod\n",
    "print(5 mod 2)"
   ]
  },
  {
   "cell_type": "code",
   "execution_count": 14,
   "metadata": {},
   "outputs": [
    {
     "name": "stdout",
     "output_type": "stream",
     "text": [
      "Enter no of set :1\n",
      "Enter value for a :3\n",
      "Enter value for b :2\n",
      "Enter value for m :4\n",
      "1.0\n"
     ]
    }
   ],
   "source": [
    "from math import pow\n",
    "n=int(input('Enter no of set :'))\n",
    "for i in range(n):\n",
    "    a=int(input('Enter value for a :'))\n",
    "    b=int(input('Enter value for b :'))\n",
    "    m=int(input('Enter value for m :'))\n",
    "    c=pow(a,b)\n",
    "    d=c%m\n",
    "    print(d)"
   ]
  },
  {
   "cell_type": "code",
   "execution_count": 19,
   "metadata": {},
   "outputs": [
    {
     "name": "stdout",
     "output_type": "stream",
     "text": [
      "2\n",
      "-35\n",
      "35\n",
      "42\n",
      "42\n"
     ]
    }
   ],
   "source": [
    "def absolute(I):\n",
    "    return abs(I)\n",
    "T=int(input())\n",
    "if T>0:\n",
    "    for i in range(T):\n",
    "        I=int(input())\n",
    "        print(absolute(I))"
   ]
  },
  {
   "cell_type": "markdown",
   "metadata": {},
   "source": [
    "# Bubble sort"
   ]
  },
  {
   "cell_type": "code",
   "execution_count": 28,
   "metadata": {},
   "outputs": [
    {
     "name": "stdout",
     "output_type": "stream",
     "text": [
      "[2, 3, 5, 23, 43, 876]\n"
     ]
    }
   ],
   "source": [
    "a=[5,43,23,876,2,3]\n",
    "n=6\n",
    "for i in range(n):\n",
    "    for j in range(n-i-1):\n",
    "        if a[j]>a[j+1]:\n",
    "            temp=a[j]\n",
    "            a[j]=a[j+1]\n",
    "            a[j+1]=temp\n",
    "print(list(a))"
   ]
  },
  {
   "cell_type": "markdown",
   "metadata": {},
   "source": [
    "# Insertion sort"
   ]
  },
  {
   "cell_type": "code",
   "execution_count": 31,
   "metadata": {
    "scrolled": true
   },
   "outputs": [
    {
     "name": "stdout",
     "output_type": "stream",
     "text": [
      "[2, 3, 5, 65, 89]\n"
     ]
    }
   ],
   "source": [
    "a=[5,3,65,2,89]\n",
    "n=5\n",
    "for i in range(1,n):\n",
    "    j=i-1\n",
    "    temp=a[i]\n",
    "    while(a[j]>temp and j>=0):\n",
    "        a[j+1]=a[j]\n",
    "        j-=1\n",
    "    a[j+1]=temp\n",
    "print(a)"
   ]
  },
  {
   "cell_type": "markdown",
   "metadata": {},
   "source": [
    "# Quick sort"
   ]
  },
  {
   "cell_type": "code",
   "execution_count": 39,
   "metadata": {},
   "outputs": [
    {
     "name": "stdout",
     "output_type": "stream",
     "text": [
      "Enter size of the list: 2\n",
      "Enter an element5\n",
      "Enter an element9\n",
      "hello\n",
      "[5, 9]\n"
     ]
    }
   ],
   "source": [
    "def partition(sort_list, low, high):\n",
    "    i =low-1\n",
    "    pivot = sort_list[high]\n",
    "    for j in range(low, high):\n",
    "        if sort_list[j] <= pivot:\n",
    "            i += 1\n",
    "            sort_list[i], sort_list[j] = sort_list[j], sort_list[i]\n",
    "    sort_list[i+1],sort_list[high] = sort_list[high], sort_list[i+1]\n",
    "    return (i+1)\n",
    "            \n",
    "def quick_sort(sort_list, low, high):\n",
    "    if low < high:\n",
    "        pi = partition(sort_list, low, high)\n",
    "        quick_sort(sort_list, low, pi-1)\n",
    "        quick_sort(sort_list, pi+1, high)\n",
    "lst = []\n",
    "size = int(input(\"Enter size of the list: \"))\n",
    "for i in range(size):\n",
    "    elements = int(input(\"Enter an element\"))\n",
    "    lst.append(elements)\n",
    "low = 0\n",
    "high = len(lst) - 1\n",
    "quick_sort(lst, low, high)\n",
    "print(lst)"
   ]
  },
  {
   "cell_type": "markdown",
   "metadata": {},
   "source": [
    "# Selection sort"
   ]
  },
  {
   "cell_type": "code",
   "execution_count": 47,
   "metadata": {},
   "outputs": [
    {
     "name": "stdout",
     "output_type": "stream",
     "text": [
      "[87, 45, 32, 6, 3, 1]\n"
     ]
    }
   ],
   "source": [
    "a=[45,3,6,87,32,1]\n",
    "for i in range(n-1):\n",
    "    maximum=a[i]\n",
    "    loc=i\n",
    "    for j in range(i+1,n):\n",
    "        if a[j]>maximum:\n",
    "            maximum=a[j]\n",
    "            loc=j\n",
    "    a[i],a[loc]=a[loc],a[i]\n",
    "print(a)"
   ]
  },
  {
   "cell_type": "markdown",
   "metadata": {},
   "source": [
    "# merge sort"
   ]
  },
  {
   "cell_type": "code",
   "execution_count": 83,
   "metadata": {
    "scrolled": true
   },
   "outputs": [
    {
     "name": "stdout",
     "output_type": "stream",
     "text": [
      "Enter the list of numbers: 2 3 5 8 6 7 \n",
      "Sorted list: [2, 3, 5, 6, 7, 8]\n"
     ]
    }
   ],
   "source": [
    "def merge_sort(alist, start, end):\n",
    "    '''Sorts the list from indexes start to end - 1 inclusive.'''\n",
    "    if end - start > 1:\n",
    "        mid = (start + end)//2\n",
    "        merge_sort(alist, start, mid)\n",
    "        merge_sort(alist, mid, end)\n",
    "        merge_list(alist, start, mid, end)\n",
    " \n",
    "def merge_list(alist, start, mid, end):\n",
    "    left = alist[start:mid]\n",
    "    right = alist[mid:end]\n",
    "    k = start\n",
    "    i = 0\n",
    "    j = 0\n",
    "    while (start + i < mid and mid + j < end):\n",
    "        if (left[i] <= right[j]):\n",
    "            alist[k] = left[i]\n",
    "            i = i + 1\n",
    "        else:\n",
    "            alist[k] = right[j]\n",
    "            j = j + 1\n",
    "        k = k + 1\n",
    "    if start + i < mid:\n",
    "        while k < end:\n",
    "            alist[k] = left[i]\n",
    "            i = i + 1\n",
    "            k = k + 1\n",
    "    else:\n",
    "        while k < end:\n",
    "            alist[k] = right[j]\n",
    "            j = j + 1\n",
    "            k = k + 1\n",
    " \n",
    " \n",
    "alist = input('Enter the list of numbers: ').split()\n",
    "alist = [int(x) for x in alist]\n",
    "merge_sort(alist, 0, len(alist))\n",
    "print('Sorted list: ', end='')\n",
    "print(alist)"
   ]
  },
  {
   "cell_type": "markdown",
   "metadata": {},
   "source": [
    "# Count Sort"
   ]
  },
  {
   "cell_type": "code",
   "execution_count": 44,
   "metadata": {},
   "outputs": [
    {
     "name": "stdout",
     "output_type": "stream",
     "text": [
      "[0, 3, 4, 4, 6, 8, 9, 10, 12]\n"
     ]
    }
   ],
   "source": [
    "a=[10,4,6,8,4,3,9,12]\n",
    "b=[0 for i in range(max(a)+1)]\n",
    "for i in range(len(a)):\n",
    "    b[a[i]]+=1\n",
    "for i in range(len(b)):\n",
    "    b[i]=b[i]+b[i-1]\n",
    "c=[0 for i in range(len(a)+1)]\n",
    "for i in range(len(a)):\n",
    "    x=a[i]\n",
    "    y=b[x]-1\n",
    "    c[y]=x\n",
    "    b[x]-=1\n",
    "print(c)"
   ]
  },
  {
   "cell_type": "markdown",
   "metadata": {},
   "source": [
    "# Shell Sort"
   ]
  },
  {
   "cell_type": "code",
   "execution_count": 13,
   "metadata": {
    "scrolled": true
   },
   "outputs": [
    {
     "name": "stdout",
     "output_type": "stream",
     "text": [
      "[0, 1, 2, 3, 4, 5, 6, 8, 10]\n"
     ]
    }
   ],
   "source": [
    "a=[5,4,6,8,10,2,3,1,0]\n",
    "n=len(a)\n",
    "gap = n // 2\n",
    "while gap > 0:\n",
    "    for i in range(gap, n):\n",
    "        temp = a[i]\n",
    "        j = i\n",
    "        while j >= gap and a[j - gap] > temp:\n",
    "            a[j] = a[j - gap]\n",
    "            j -= gap\n",
    "        a[j] = temp\n",
    "    gap //= 2\n",
    "print(a)"
   ]
  }
 ],
 "metadata": {
  "kernelspec": {
   "display_name": "Python 3",
   "language": "python",
   "name": "python3"
  }
 },
 "nbformat": 4,
 "nbformat_minor": 4
}
